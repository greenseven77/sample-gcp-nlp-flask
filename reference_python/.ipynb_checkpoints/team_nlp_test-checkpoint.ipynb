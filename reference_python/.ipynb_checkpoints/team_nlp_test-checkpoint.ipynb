{
 "cells": [
  {
   "cell_type": "markdown",
   "id": "fiscal-banking",
   "metadata": {},
   "source": [
    "# 4 Musketeers Code Demo\n",
    "## Introduction - <what do we do for this program?>\n",
    "\n"
   ]
  },
  {
   "cell_type": "markdown",
   "id": "clear-sociology",
   "metadata": {},
   "source": [
    "#### Setup"
   ]
  },
  {
   "cell_type": "code",
   "execution_count": 3,
   "id": "formed-burlington",
   "metadata": {},
   "outputs": [
    {
     "name": "stdout",
     "output_type": "stream",
     "text": [
      "Requirement already satisfied: google-cloud-language in /home/jupyter/.local/lib/python3.7/site-packages (2.0.0)\n",
      "Requirement already satisfied: libcst>=0.2.5 in /home/jupyter/.local/lib/python3.7/site-packages (from google-cloud-language) (0.3.17)\n",
      "Requirement already satisfied: google-api-core[grpc]<2.0.0dev,>=1.22.2 in /opt/conda/lib/python3.7/site-packages (from google-cloud-language) (1.22.4)\n",
      "Requirement already satisfied: proto-plus>=1.10.0 in /home/jupyter/.local/lib/python3.7/site-packages (from google-cloud-language) (1.18.1)\n",
      "Requirement already satisfied: setuptools>=34.0.0 in /opt/conda/lib/python3.7/site-packages (from google-api-core[grpc]<2.0.0dev,>=1.22.2->google-cloud-language) (49.6.0.post20210108)\n",
      "Requirement already satisfied: googleapis-common-protos<2.0dev,>=1.6.0 in /opt/conda/lib/python3.7/site-packages (from google-api-core[grpc]<2.0.0dev,>=1.22.2->google-cloud-language) (1.52.0)\n",
      "Requirement already satisfied: protobuf>=3.12.0 in /opt/conda/lib/python3.7/site-packages (from google-api-core[grpc]<2.0.0dev,>=1.22.2->google-cloud-language) (3.15.2)\n",
      "Requirement already satisfied: six>=1.13.0 in /opt/conda/lib/python3.7/site-packages (from google-api-core[grpc]<2.0.0dev,>=1.22.2->google-cloud-language) (1.15.0)\n",
      "Requirement already satisfied: requests<3.0.0dev,>=2.18.0 in /opt/conda/lib/python3.7/site-packages (from google-api-core[grpc]<2.0.0dev,>=1.22.2->google-cloud-language) (2.25.1)\n",
      "Requirement already satisfied: pytz in /opt/conda/lib/python3.7/site-packages (from google-api-core[grpc]<2.0.0dev,>=1.22.2->google-cloud-language) (2021.1)\n",
      "Requirement already satisfied: google-auth<2.0dev,>=1.21.1 in /opt/conda/lib/python3.7/site-packages (from google-api-core[grpc]<2.0.0dev,>=1.22.2->google-cloud-language) (1.24.0)\n",
      "Requirement already satisfied: grpcio<2.0dev,>=1.29.0 in /opt/conda/lib/python3.7/site-packages (from google-api-core[grpc]<2.0.0dev,>=1.22.2->google-cloud-language) (1.36.0)\n",
      "Requirement already satisfied: pyasn1-modules>=0.2.1 in /opt/conda/lib/python3.7/site-packages (from google-auth<2.0dev,>=1.21.1->google-api-core[grpc]<2.0.0dev,>=1.22.2->google-cloud-language) (0.2.7)\n",
      "Requirement already satisfied: rsa<5,>=3.1.4 in /opt/conda/lib/python3.7/site-packages (from google-auth<2.0dev,>=1.21.1->google-api-core[grpc]<2.0.0dev,>=1.22.2->google-cloud-language) (4.7.2)\n",
      "Requirement already satisfied: cachetools<5.0,>=2.0.0 in /opt/conda/lib/python3.7/site-packages (from google-auth<2.0dev,>=1.21.1->google-api-core[grpc]<2.0.0dev,>=1.22.2->google-cloud-language) (4.2.1)\n",
      "Requirement already satisfied: typing-extensions>=3.7.4.2 in /opt/conda/lib/python3.7/site-packages (from libcst>=0.2.5->google-cloud-language) (3.7.4.3)\n",
      "Requirement already satisfied: typing-inspect>=0.4.0 in /home/jupyter/.local/lib/python3.7/site-packages (from libcst>=0.2.5->google-cloud-language) (0.6.0)\n",
      "Requirement already satisfied: pyyaml>=5.2 in /opt/conda/lib/python3.7/site-packages (from libcst>=0.2.5->google-cloud-language) (5.4.1)\n",
      "Requirement already satisfied: pyasn1<0.5.0,>=0.4.6 in /opt/conda/lib/python3.7/site-packages (from pyasn1-modules>=0.2.1->google-auth<2.0dev,>=1.21.1->google-api-core[grpc]<2.0.0dev,>=1.22.2->google-cloud-language) (0.4.8)\n",
      "Requirement already satisfied: certifi>=2017.4.17 in /opt/conda/lib/python3.7/site-packages (from requests<3.0.0dev,>=2.18.0->google-api-core[grpc]<2.0.0dev,>=1.22.2->google-cloud-language) (2020.12.5)\n",
      "Requirement already satisfied: idna<3,>=2.5 in /opt/conda/lib/python3.7/site-packages (from requests<3.0.0dev,>=2.18.0->google-api-core[grpc]<2.0.0dev,>=1.22.2->google-cloud-language) (2.10)\n",
      "Requirement already satisfied: chardet<5,>=3.0.2 in /opt/conda/lib/python3.7/site-packages (from requests<3.0.0dev,>=2.18.0->google-api-core[grpc]<2.0.0dev,>=1.22.2->google-cloud-language) (4.0.0)\n",
      "Requirement already satisfied: urllib3<1.27,>=1.21.1 in /opt/conda/lib/python3.7/site-packages (from requests<3.0.0dev,>=2.18.0->google-api-core[grpc]<2.0.0dev,>=1.22.2->google-cloud-language) (1.26.3)\n",
      "Requirement already satisfied: mypy-extensions>=0.3.0 in /opt/conda/lib/python3.7/site-packages (from typing-inspect>=0.4.0->libcst>=0.2.5->google-cloud-language) (0.4.3)\n",
      "Note: you may need to restart the kernel to use updated packages.\n"
     ]
    }
   ],
   "source": [
    "pip install --user --upgrade google-cloud-language"
   ]
  },
  {
   "cell_type": "code",
   "execution_count": 4,
   "id": "personal-shopper",
   "metadata": {},
   "outputs": [
    {
     "name": "stdout",
     "output_type": "stream",
     "text": [
      "Requirement already satisfied: pandas in /opt/conda/lib/python3.7/site-packages (1.2.2)\n",
      "Requirement already satisfied: python-dateutil>=2.7.3 in /opt/conda/lib/python3.7/site-packages (from pandas) (2.8.1)\n",
      "Requirement already satisfied: pytz>=2017.3 in /opt/conda/lib/python3.7/site-packages (from pandas) (2021.1)\n",
      "Requirement already satisfied: numpy>=1.16.5 in /opt/conda/lib/python3.7/site-packages (from pandas) (1.19.5)\n",
      "Requirement already satisfied: six>=1.5 in /opt/conda/lib/python3.7/site-packages (from python-dateutil>=2.7.3->pandas) (1.15.0)\n",
      "Requirement already satisfied: numpy in /opt/conda/lib/python3.7/site-packages (1.19.5)\n",
      "Requirement already satisfied: matplotlib in /opt/conda/lib/python3.7/site-packages (3.3.4)\n",
      "Requirement already satisfied: python-dateutil>=2.1 in /opt/conda/lib/python3.7/site-packages (from matplotlib) (2.8.1)\n",
      "Requirement already satisfied: numpy>=1.15 in /opt/conda/lib/python3.7/site-packages (from matplotlib) (1.19.5)\n",
      "Requirement already satisfied: pyparsing!=2.0.4,!=2.1.2,!=2.1.6,>=2.0.3 in /opt/conda/lib/python3.7/site-packages (from matplotlib) (2.4.7)\n",
      "Requirement already satisfied: kiwisolver>=1.0.1 in /opt/conda/lib/python3.7/site-packages (from matplotlib) (1.3.1)\n",
      "Requirement already satisfied: pillow>=6.2.0 in /opt/conda/lib/python3.7/site-packages (from matplotlib) (8.1.0)\n",
      "Requirement already satisfied: cycler>=0.10 in /opt/conda/lib/python3.7/site-packages (from matplotlib) (0.10.0)\n",
      "Requirement already satisfied: six in /opt/conda/lib/python3.7/site-packages (from cycler>=0.10->matplotlib) (1.15.0)\n"
     ]
    }
   ],
   "source": [
    "%matplotlib inline\n",
    "! pip install --user pandas\n",
    "! pip install --user numpy\n",
    "! pip install --user matplotlib"
   ]
  },
  {
   "cell_type": "code",
   "execution_count": 5,
   "id": "lined-celtic",
   "metadata": {},
   "outputs": [],
   "source": [
    "# Import google-cloud-language\n",
    "# Make sure that you have installed or upgraded to the latest google-cloud-language using pip\n",
    "from google.cloud import language_v1 as language\n",
    "import pandas as pd\n",
    "# import libraries\n",
    "%matplotlib inline\n",
    "import numpy as np\n",
    "import matplotlib.pyplot as plt\n",
    "\n",
    "#Print all columns and all rows in a panda dataframe\n",
    "pd.set_option('display.max_rows', None)\n",
    "pd.set_option('display.max_columns', None)"
   ]
  },
  {
   "cell_type": "markdown",
   "id": "classical-petroleum",
   "metadata": {},
   "source": [
    "#### Set up functions to call Google Natural Language API\n",
    "Sentiment Analysis:"
   ]
  },
  {
   "cell_type": "code",
   "execution_count": 97,
   "id": "differential-accordance",
   "metadata": {},
   "outputs": [],
   "source": [
    "# Module to give 'sentiment' results:\n",
    "# take a sentence, run the module, result back:\n",
    "# 1. original text; \n",
    "# 2. sentiment score -- between -1 to 1\n",
    "# 3. sentiment magnitude -- absolute value of the score, but will agrregate\n",
    "def analyze_text_sentiment(text):\n",
    "    client = language.LanguageServiceClient()\n",
    "    document = language.Document(content=text, type_=language.Document.Type.PLAIN_TEXT)\n",
    "\n",
    "    response = client.analyze_sentiment(document=document)\n",
    "\n",
    "    sentiment = response.document_sentiment\n",
    "    results = dict(\n",
    "        text=text,\n",
    "        score=f\"{sentiment.score:.1%}\",\n",
    "        magnitude=f\"{sentiment.magnitude:.1%}\",\n",
    "    )\n",
    "    \n",
    "    # Get sentiment for all sentences in the document\n",
    "    sentence_sentiment = []\n",
    "    for sentence in response.sentences:\n",
    "        item={}\n",
    "        item[\"text\"]=sentence.text.content\n",
    "        item[\"sentiment score\"]=sentence.sentiment.score\n",
    "        item[\"sentiment magnitude\"]=sentence.sentiment.magnitude\n",
    "        sentence_sentiment.append(item)\n",
    "    \n",
    "    return sentence_sentiment"
   ]
  },
  {
   "cell_type": "code",
   "execution_count": 98,
   "id": "double-stephen",
   "metadata": {},
   "outputs": [],
   "source": [
    "# return results by sentence\n",
    "def save_sentiment_to_df (text):\n",
    "    df_sentiment=pd.DataFrame(analyze_text_sentiment(text))\n",
    "    return df_sentiment"
   ]
  },
  {
   "cell_type": "code",
   "execution_count": 100,
   "id": "developing-fleece",
   "metadata": {},
   "outputs": [],
   "source": [
    "# get text from a file\n",
    "def get_text_from_file (file_name):\n",
    "    #open text file in read mode\n",
    "    text_file = open(file_name, \"r\")\n",
    "    \n",
    "    #read whole file to a string\n",
    "    data = text_file.read()\n",
    "\n",
    "    #close file\n",
    "    text_file.close()\n",
    "\n",
    "    return data"
   ]
  },
  {
   "cell_type": "code",
   "execution_count": 132,
   "id": "deadly-remainder",
   "metadata": {},
   "outputs": [],
   "source": [
    "#Get basic information\n",
    "def get_basic_info(file_name):\n",
    "    text = get_text_from_file (file_name)\n",
    "    # create the result into dataframe for further info\n",
    "    df_text_sentiment_stats = save_sentiment_to_df(text)\n",
    "    df_text_sentiment_stats.reset_index(inplace=True)\n",
    "    # 1. how many sentense?\n",
    "    cnt_sentences = df_text_sentiment_stats.shape[0]\n",
    "    print(\"There are total of \", cnt_sentences, \" sentences in the artical.\")\n",
    "    # 2. The sentiment score of each sentence:\n",
    "    #print(df_text_sentiment_stats['sentiment score'])\n",
    "    return df_text_sentiment_stats['sentiment score']"
   ]
  },
  {
   "cell_type": "code",
   "execution_count": 133,
   "id": "acting-settlement",
   "metadata": {},
   "outputs": [],
   "source": [
    "# visualization (code test) \n",
    "def text_sentiment_line_chart(df_sentiment_score):\n",
    "    df_sentiment_score.plot(kind='line', y='sentiment score', x=df_sentiment_score.index+1)\n",
    "\n",
    "    # Build the chart graphic\n",
    "    ax = plt.axes()\n",
    "    ax.grid()\n",
    "    ax.margins(0) # remove default margins (matplotlib verision 2+)\n",
    "    ax.axhspan(0, 2.0, facecolor='bisque', alpha=0.5)\n",
    "    ax.axhspan(-2.0, 0, facecolor='lightcoral', alpha=0.5)\n",
    "\n",
    "    # Giving y label using xlabel() method \n",
    "    plt.ylabel(\"Sentiment Score\", fontweight='bold')  \n",
    "    # Giving title to the plot\n",
    "    plt.title(\"Sentiment Score by Sentence\", fontweight='bold')\n",
    "    plt.show()\n"
   ]
  },
  {
   "cell_type": "code",
   "execution_count": 136,
   "id": "severe-solution",
   "metadata": {},
   "outputs": [],
   "source": [
    "def process_one_file(file_name):\n",
    "    df_sentiment_score = get_basic_info(file_name)\n",
    "    text_sentiment_line_chart(df_sentiment_score)"
   ]
  },
  {
   "cell_type": "markdown",
   "id": "stupid-claim",
   "metadata": {},
   "source": [
    "# Demo 1 - Process a single news article\n",
    "### 1. Basic information\n",
    "### 2. Visualization - bar chart for each sentence\n",
    "<dl>\n",
    "  <dt>Input</dt>\n",
    "      <dd>- file name</dd>\n",
    "  <dt>Output</dt>\n",
    "      <dd>- basic info and Sentiment Score Chart</dd>\n",
    "</dl>"
   ]
  },
  {
   "cell_type": "code",
   "execution_count": 137,
   "id": "everyday-aurora",
   "metadata": {},
   "outputs": [
    {
     "name": "stdout",
     "output_type": "stream",
     "text": [
      "There are total of  78  sentences in the artical.\n"
     ]
    },
    {
     "name": "stderr",
     "output_type": "stream",
     "text": [
      "/opt/conda/lib/python3.7/site-packages/ipykernel_launcher.py:6: MatplotlibDeprecationWarning: Adding an axes using the same arguments as a previous axes currently reuses the earlier instance.  In a future version, a new instance will always be created and returned.  Meanwhile, this warning can be suppressed, and the future behavior ensured, by passing a unique label to each axes instance.\n",
      "  \n"
     ]
    },
    {
     "data": {
      "image/png": "[encoded data removed]",
      "text/plain": [
       "<Figure size 432x288 with 1 Axes>"
      ]
     },
     "metadata": {
      "needs_background": "light"
     },
     "output_type": "display_data"
    }
   ],
   "source": [
    "process_one_file(\"news1.txt\")"
   ]
  },
  {
   "cell_type": "markdown",
   "id": "protecting-statement",
   "metadata": {},
   "source": [
    "## Demo 2 - Process multiple news article\n",
    "### 1. Basic information\n",
    "### 2. Visualization - bar chart for each sentence\n",
    "<dl>\n",
    "  <dt>Input</dt>\n",
    "      <dd>- LIST of file names</dd>\n",
    "  <dt>Output</dt>\n",
    "      <dd>- basic info and Sentiment Score Chart</dd>\n",
    "</dl>"
   ]
  },
  {
   "cell_type": "code",
   "execution_count": null,
   "id": "super-listening",
   "metadata": {},
   "outputs": [],
   "source": [
    "file_name_list = ['news1.txt', 'news2.txt', 'news3.txt']"
   ]
  }
 ],
 "metadata": {
  "environment": {
   "name": "common-cpu.m65",
   "type": "gcloud",
   "uri": "gcr.io/deeplearning-platform-release/base-cpu:m65"
  },
  "kernelspec": {
   "display_name": "Python 3",
   "language": "python",
   "name": "python3"
  },
  "language_info": {
   "codemirror_mode": {
    "name": "ipython",
    "version": 3
   },
   "file_extension": ".py",
   "mimetype": "text/x-python",
   "name": "python",
   "nbconvert_exporter": "python",
   "pygments_lexer": "ipython3",
   "version": "3.7.10"
  }
 },
 "nbformat": 4,
 "nbformat_minor": 5
}
